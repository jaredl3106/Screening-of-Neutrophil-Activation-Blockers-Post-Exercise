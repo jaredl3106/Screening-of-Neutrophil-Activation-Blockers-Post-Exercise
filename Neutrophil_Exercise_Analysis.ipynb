{
  "nbformat": 4,
  "nbformat_minor": 0,
  "metadata": {
    "colab": {
      "provenance": [],
      "authorship_tag": "ABX9TyPgMzHXCClqmJoC8NbU8uyA",
      "include_colab_link": true
    },
    "kernelspec": {
      "name": "python3",
      "display_name": "Python 3"
    },
    "language_info": {
      "name": "python"
    }
  },
  "cells": [
    {
      "cell_type": "markdown",
      "metadata": {
        "id": "view-in-github",
        "colab_type": "text"
      },
      "source": [
        "<a href=\"https://colab.research.google.com/github/jaredl3106/Screening-of-Neutrophil-Activation-Blockers-Post-Exercise/blob/main/Neutrophil_Exercise_Analysis.ipynb\" target=\"_parent\"><img src=\"https://colab.research.google.com/assets/colab-badge.svg\" alt=\"Open In Colab\"/></a>"
      ]
    },
    {
      "cell_type": "code",
      "source": [
        "#Preview the file to figure out where the metadata ends\n",
        "with open(\"GSE43856_series_matrix.txt\", \"r\") as file:\n",
        "    lines = file.readlines()\n",
        "    for i, line in enumerate(lines[:40]):  # Check first 40 lines\n",
        "        print(f\"Line {i+1}: {line.strip()}\")"
      ],
      "metadata": {
        "id": "DWwp6Id96B2W"
      },
      "execution_count": null,
      "outputs": []
    },
    {
      "cell_type": "code",
      "source": [
        "#Take a quick look at the data to find out where the table starts\n",
        "import pandas as pd\n",
        "df = pd.read_csv(\"GSE43856_series_matrix.txt\", sep=\"\\t\", skiprows=71)  # Skip metadata\n",
        "print(df.head())  # First few rows\n",
        "print(list(df.columns[:10]))  # Column names"
      ],
      "metadata": {
        "id": "oa1LImRJ5neA",
        "colab": {
          "base_uri": "https://localhost:8080/"
        },
        "outputId": "34c486a6-9e11-4dbc-f80f-2d53c54f2aeb"
      },
      "execution_count": 3,
      "outputs": [
        {
          "output_type": "stream",
          "name": "stdout",
          "text": [
            "         ID_REF  GSM1071906  GSM1071907  GSM1071908  GSM1071909  GSM1071910  \\\n",
            "0  ILMN_1343291   12.727125   11.463363    4.692906   11.127382   13.550432   \n",
            "1  ILMN_1343295   10.637341   14.106097    3.754861   13.599462   10.502519   \n",
            "2  ILMN_1651199    5.112125    5.320339    5.144023    4.434209    4.731754   \n",
            "3  ILMN_1651209    5.062119    4.958345    4.831746    4.790899    4.941526   \n",
            "4  ILMN_1651210    5.116642    4.759375    5.449112    4.519951    5.302921   \n",
            "\n",
            "   GSM1071911  GSM1071912  GSM1071913  GSM1071914  ...  GSM1071960  \\\n",
            "0    4.891948   13.184277   11.625904   12.887277  ...   13.368224   \n",
            "1    4.643156    9.868144   13.433457    9.746028  ...   10.293540   \n",
            "2    7.214253    4.692498    4.478036    4.805922  ...    4.074619   \n",
            "3    4.283389    4.730746    4.828697    5.012994  ...    5.051304   \n",
            "4    5.054002    4.800084    5.203029    5.012742  ...    4.551941   \n",
            "\n",
            "   GSM1071961  GSM1071962  GSM1071963  GSM1071964  GSM1071965  GSM1071966  \\\n",
            "0   12.456355   13.936211    9.702296   12.169635   12.024155   13.329927   \n",
            "1   13.652570   10.120596    9.327775   10.761130   13.433457    9.705014   \n",
            "2    4.669805    3.825717    4.340661    4.769777    4.169757    4.987961   \n",
            "3    4.530195    4.822944    4.523373    5.319118    4.293258    4.357466   \n",
            "4    4.404946    5.585474    4.496295    4.733432    5.256694    4.315052   \n",
            "\n",
            "   GSM1071967  GSM1071968  GSM1071969  \n",
            "0    7.414683   13.329927    7.854400  \n",
            "1    8.203501    9.505167    8.571019  \n",
            "2    3.491912    3.888730    4.155405  \n",
            "3    5.090195    5.575483    4.155559  \n",
            "4    4.454017    4.080397    4.266223  \n",
            "\n",
            "[5 rows x 65 columns]\n",
            "['ID_REF', 'GSM1071906', 'GSM1071907', 'GSM1071908', 'GSM1071909', 'GSM1071910', 'GSM1071911', 'GSM1071912', 'GSM1071913', 'GSM1071914']\n"
          ]
        }
      ]
    },
    {
      "cell_type": "code",
      "source": [
        "# List of neutrophil sample IDs\n",
        "neutrophil_ids = [\n",
        "    \"GSM1071906\", \"GSM1071908\", \"GSM1071910\", \"GSM1071912\",\n",
        "    \"GSM1071914\", \"GSM1071916\", \"GSM1071918\", \"GSM1071920\",\n",
        "    \"GSM1071922\", \"GSM1071924\", \"GSM1071926\", \"GSM1071928\",\n",
        "    \"GSM1071930\", \"GSM1071932\", \"GSM1071934\", \"GSM1071936\",\n",
        "    \"GSM1071938\", \"GSM1071940\", \"GSM1071942\", \"GSM1071944\",\n",
        "    \"GSM1071946\", \"GSM1071948\", \"GSM1071950\", \"GSM1071952\",\n",
        "    \"GSM1071954\", \"GSM1071956\", \"GSM1071958\", \"GSM1071960\",\n",
        "    \"GSM1071962\", \"GSM1071964\", \"GSM1071966\", \"GSM1071968\"\n",
        "]\n",
        "df_neutrophil = df[[\"ID_REF\"] + neutrophil_ids]\n",
        "print(df_neutrophil.head())\n",
        "print(df_neutrophil.shape)"
      ],
      "metadata": {
        "id": "I3c205hL8u7P",
        "colab": {
          "base_uri": "https://localhost:8080/"
        },
        "outputId": "923f8cbf-0e11-45d7-8bad-e906fa95f538"
      },
      "execution_count": 4,
      "outputs": [
        {
          "output_type": "stream",
          "name": "stdout",
          "text": [
            "         ID_REF  GSM1071906  GSM1071908  GSM1071910  GSM1071912  GSM1071914  \\\n",
            "0  ILMN_1343291   12.727125    4.692906   13.550432   13.184277   12.887277   \n",
            "1  ILMN_1343295   10.637341    3.754861   10.502519    9.868144    9.746028   \n",
            "2  ILMN_1651199    5.112125    5.144023    4.731754    4.692498    4.805922   \n",
            "3  ILMN_1651209    5.062119    4.831746    4.941526    4.730746    5.012994   \n",
            "4  ILMN_1651210    5.116642    5.449112    5.302921    4.800084    5.012742   \n",
            "\n",
            "   GSM1071916  GSM1071918  GSM1071920  GSM1071922  ...  GSM1071950  \\\n",
            "0   13.073488   10.502519   13.064051   13.270277  ...   13.279998   \n",
            "1   10.835336    7.750893   10.582531   10.221086  ...    9.168689   \n",
            "2    4.736232    4.293814    4.788880    4.914914  ...    3.928156   \n",
            "3    4.393893    4.712257    5.123432    4.731602  ...    4.972095   \n",
            "4    5.585898    4.929846    4.276222    3.847139  ...    5.246142   \n",
            "\n",
            "   GSM1071952  GSM1071954  GSM1071956  GSM1071958  GSM1071960  GSM1071962  \\\n",
            "0   12.975149   13.379623   12.242796   13.027199   13.368224   13.936211   \n",
            "1    9.183775   10.332924   11.445879   10.196708   10.293540   10.120596   \n",
            "2    3.836436    4.402948    4.843980    4.116239    4.074619    3.825717   \n",
            "3    5.137703    4.865860    5.427430    5.330611    5.051304    4.822944   \n",
            "4    4.913850    4.453917    4.458471    4.186247    4.551941    5.585474   \n",
            "\n",
            "   GSM1071964  GSM1071966  GSM1071968  \n",
            "0   12.169635   13.329927   13.329927  \n",
            "1   10.761130    9.705014    9.505167  \n",
            "2    4.769777    4.987961    3.888730  \n",
            "3    5.319118    4.357466    5.575483  \n",
            "4    4.733432    4.315052    4.080397  \n",
            "\n",
            "[5 rows x 33 columns]\n",
            "(47324, 33)\n"
          ]
        }
      ]
    },
    {
      "cell_type": "code",
      "source": [
        "#Importing the the GPL file to decode the compound IDs\n",
        "gpl = pd.read_csv(\"GPL6947-13512.txt\", sep=\"\\t\", comment=\"#\")\n",
        "print(gpl.head())  # Check column names\n",
        "print(gpl.columns)  # List all columns"
      ],
      "metadata": {
        "id": "6ASVmql7A3DJ",
        "colab": {
          "base_uri": "https://localhost:8080/"
        },
        "outputId": "1181397b-ac12-45ec-c61c-65c2e6ec0a75"
      },
      "execution_count": 6,
      "outputs": [
        {
          "output_type": "stream",
          "name": "stdout",
          "text": [
            "             ID                nuID       Species   Source   Search_Key  \\\n",
            "0  ILMN_1725881  rp13_p1x6D80lNLk3c  Homo sapiens   RefSeq   ILMN_44919   \n",
            "1  ILMN_1910180  NEX0oqCV8.er4HVfU4  Homo sapiens  Unigene  ILMN_127219   \n",
            "2  ILMN_1804174  KyqQynMZxJcruyylEU  Homo sapiens   RefSeq  ILMN_139282   \n",
            "3  ILMN_1796063  xXl7eXuF7sbPEp.KFI  Homo sapiens   RefSeq    ILMN_5006   \n",
            "4  ILMN_1811966  9ckqJrioiaej9_ajeQ  Homo sapiens   RefSeq   ILMN_38756   \n",
            "\n",
            "    Transcript  ILMN_Gene Source_Reference_ID    RefSeq_ID Unigene_ID  ...  \\\n",
            "0   ILMN_44919   LOC23117         XM_933824.1  XM_933824.1        NaN  ...   \n",
            "1  ILMN_127219  HS.575038           Hs.575038          NaN  Hs.575038  ...   \n",
            "2  ILMN_139282     FCGR2B         XM_938851.1  XM_938851.1        NaN  ...   \n",
            "3    ILMN_5006     TRIM44         NM_017583.3  NM_017583.3        NaN  ...   \n",
            "4   ILMN_38756  LOC653895         XM_936379.1  XM_936379.1        NaN  ...   \n",
            "\n",
            "   Probe_Chr_Orientation                    Probe_Coordinates   Cytoband  \\\n",
            "0                      -  21766363-21766363:21769901-21769949   16p12.2a   \n",
            "1                    NaN                                  NaN        NaN   \n",
            "2                    NaN                                  NaN    1q23.3b   \n",
            "3                      +                    35786070-35786119     11p13a   \n",
            "4                    NaN                                  NaN  10q11.23b   \n",
            "\n",
            "                                          Definition  \\\n",
            "0  PREDICTED: Homo sapiens KIAA0220-like protein,...   \n",
            "1    Homo sapiens cDNA: FLJ21027 fis, clone CAE07110   \n",
            "2  PREDICTED: Homo sapiens Fc fragment of IgG, lo...   \n",
            "3  Homo sapiens tripartite motif-containing 44 (T...   \n",
            "4  PREDICTED: Homo sapiens similar to protein ger...   \n",
            "\n",
            "                         Ontology_Component  Ontology_Process  \\\n",
            "0                                       NaN               NaN   \n",
            "1                                       NaN               NaN   \n",
            "2                                       NaN               NaN   \n",
            "3  intracellular [goid 5622] [evidence IEA]               NaN   \n",
            "4                                       NaN               NaN   \n",
            "\n",
            "                                   Ontology_Function  \\\n",
            "0                                                NaN   \n",
            "1                                                NaN   \n",
            "2                                                NaN   \n",
            "3  zinc ion binding [goid 8270] [evidence IEA]; m...   \n",
            "4                                                NaN   \n",
            "\n",
            "                        Synonyms              Obsolete_Probe_Id       GB_ACC  \n",
            "0                            NaN                            NaN  XM_933824.1  \n",
            "1                            NaN                            NaN     AK024680  \n",
            "2                            NaN                            NaN  XM_938851.1  \n",
            "3  MGC3490; MC7; HSA249128; DIPB  MGC3490; MC7; HSA249128; DIPB  NM_017583.3  \n",
            "4                            NaN                            NaN  XM_936379.1  \n",
            "\n",
            "[5 rows x 30 columns]\n",
            "Index(['ID', 'nuID', 'Species', 'Source', 'Search_Key', 'Transcript',\n",
            "       'ILMN_Gene', 'Source_Reference_ID', 'RefSeq_ID', 'Unigene_ID',\n",
            "       'Entrez_Gene_ID', 'GI', 'Accession', 'Symbol', 'Protein_Product',\n",
            "       'Array_Address_Id', 'Probe_Type', 'Probe_Start', 'SEQUENCE',\n",
            "       'Chromosome', 'Probe_Chr_Orientation', 'Probe_Coordinates', 'Cytoband',\n",
            "       'Definition', 'Ontology_Component', 'Ontology_Process',\n",
            "       'Ontology_Function', 'Synonyms', 'Obsolete_Probe_Id', 'GB_ACC'],\n",
            "      dtype='object')\n"
          ]
        }
      ]
    },
    {
      "cell_type": "code",
      "source": [
        "#Merging the Neutrophil data frame with the gpl file to determine the genes measured.\n",
        "df_merged = df_neutrophil.merge(gpl[[\"ID\", \"Symbol\"]], left_on=\"ID_REF\", right_on=\"ID\", how=\"left\")\n",
        "df_merged = df_merged.drop(columns=[\"ID\"])\n",
        "print(df_merged.head())"
      ],
      "metadata": {
        "id": "lP6Lnv8RBqJu",
        "colab": {
          "base_uri": "https://localhost:8080/"
        },
        "outputId": "25152100-76c0-43ba-c56c-7886b7256ba5"
      },
      "execution_count": 7,
      "outputs": [
        {
          "output_type": "stream",
          "name": "stdout",
          "text": [
            "         ID_REF  GSM1071906  GSM1071908  GSM1071910  GSM1071912  GSM1071914  \\\n",
            "0  ILMN_1343291   12.727125    4.692906   13.550432   13.184277   12.887277   \n",
            "1  ILMN_1343295   10.637341    3.754861   10.502519    9.868144    9.746028   \n",
            "2  ILMN_1651199    5.112125    5.144023    4.731754    4.692498    4.805922   \n",
            "3  ILMN_1651209    5.062119    4.831746    4.941526    4.730746    5.012994   \n",
            "4  ILMN_1651210    5.116642    5.449112    5.302921    4.800084    5.012742   \n",
            "\n",
            "   GSM1071916  GSM1071918  GSM1071920  GSM1071922  ...  GSM1071952  \\\n",
            "0   13.073488   10.502519   13.064051   13.270277  ...   12.975149   \n",
            "1   10.835336    7.750893   10.582531   10.221086  ...    9.183775   \n",
            "2    4.736232    4.293814    4.788880    4.914914  ...    3.836436   \n",
            "3    4.393893    4.712257    5.123432    4.731602  ...    5.137703   \n",
            "4    5.585898    4.929846    4.276222    3.847139  ...    4.913850   \n",
            "\n",
            "   GSM1071954  GSM1071956  GSM1071958  GSM1071960  GSM1071962  GSM1071964  \\\n",
            "0   13.379623   12.242796   13.027199   13.368224   13.936211   12.169635   \n",
            "1   10.332924   11.445879   10.196708   10.293540   10.120596   10.761130   \n",
            "2    4.402948    4.843980    4.116239    4.074619    3.825717    4.769777   \n",
            "3    4.865860    5.427430    5.330611    5.051304    4.822944    5.319118   \n",
            "4    4.453917    4.458471    4.186247    4.551941    5.585474    4.733432   \n",
            "\n",
            "   GSM1071966  GSM1071968     Symbol  \n",
            "0   13.329927   13.329927     EEF1A1  \n",
            "1    9.705014    9.505167      GAPDH  \n",
            "2    4.987961    3.888730  LOC643334  \n",
            "3    4.357466    5.575483    SLC35E2  \n",
            "4    4.315052    4.080397     DUSP22  \n",
            "\n",
            "[5 rows x 34 columns]\n"
          ]
        }
      ]
    },
    {
      "cell_type": "code",
      "source": [
        "#Looking for pro-inflammatory/activation genes for further analysis.\n",
        "genes = [\"CXCL8\", \"TNF\", \"IL6\", \"CXCR2\", \"MPO\"]\n",
        "for gene in genes:\n",
        "    matches = df_merged[df_merged[\"Symbol\"].str.contains(gene, na=False)]\n",
        "    if not matches.empty:\n",
        "        print(f\"Found {gene}:\")\n",
        "        print(matches)"
      ],
      "metadata": {
        "id": "yyPE1ISZCHGs",
        "colab": {
          "base_uri": "https://localhost:8080/"
        },
        "outputId": "6f542352-6aea-48eb-b0c9-ae519422bc4b"
      },
      "execution_count": 8,
      "outputs": [
        {
          "output_type": "stream",
          "name": "stdout",
          "text": [
            "Found TNF:\n",
            "             ID_REF  GSM1071906  GSM1071908  GSM1071910  GSM1071912  \\\n",
            "959    ILMN_1655414    7.821472    5.279229    7.681115    8.420692   \n",
            "965    ILMN_1655429    4.931260    5.067306    5.718263    6.018062   \n",
            "1758   ILMN_1658713    5.665470    3.754861    5.027405    5.041500   \n",
            "1879   ILMN_1659257    6.799522    6.443626    7.385372    6.050258   \n",
            "2348   ILMN_1661343    4.463485    5.533772    4.812774    3.941329   \n",
            "...             ...         ...         ...         ...         ...   \n",
            "37898  ILMN_2363392   11.283656    4.426110    9.206988   10.091449   \n",
            "38340  ILMN_2379823    4.376937    3.754861    4.175062    4.974553   \n",
            "38348  ILMN_2380237    6.121257    6.000863    5.041469    4.948634   \n",
            "38901  ILMN_2399190    4.923726    4.154905    4.167576    4.141251   \n",
            "39372  ILMN_2414325    7.260767    4.132573    5.863321    6.303691   \n",
            "\n",
            "       GSM1071914  GSM1071916  GSM1071918  GSM1071920  GSM1071922  ...  \\\n",
            "959      8.465979    8.295286    4.661084    8.314918    8.129100  ...   \n",
            "965      6.054346    5.117570    5.072584    5.706691    5.572421  ...   \n",
            "1758     3.837828    5.218645    4.745254    4.752690    4.478222  ...   \n",
            "1879     5.808098    5.822405    5.752813    6.498412    6.403618  ...   \n",
            "2348     6.399295    6.676776    3.207022    7.129404    6.949453  ...   \n",
            "...           ...         ...         ...         ...         ...  ...   \n",
            "37898    9.795140   10.767451   10.608961   10.096828   10.192858  ...   \n",
            "38340    4.829888    4.303645    3.737493    4.530439    4.480976  ...   \n",
            "38348    4.918124    5.375133    4.831062    4.659571    3.779014  ...   \n",
            "38901    5.124195    4.519534    4.370071    4.504010    5.273654  ...   \n",
            "39372    6.768682    8.317032    5.845617    6.999300    7.536910  ...   \n",
            "\n",
            "       GSM1071952  GSM1071954  GSM1071956  GSM1071958  GSM1071960  GSM1071962  \\\n",
            "959      8.063160    8.180216    8.771129    8.579826    7.819300    7.123624   \n",
            "965      6.354358    5.992399    5.374410    5.761259    5.996869    6.127968   \n",
            "1758     4.286230    4.071258    5.024444    4.473146    3.821435    4.945680   \n",
            "1879     5.469913    6.157822    6.576025    6.572112    6.268758    6.051360   \n",
            "2348     6.461958    6.646265    7.637234    7.140524    6.101654    5.842723   \n",
            "...           ...         ...         ...         ...         ...         ...   \n",
            "37898   10.613975    9.775605   10.305611    9.690144    9.932162    8.914212   \n",
            "38340    4.966603    4.541438    4.424902    4.358422    4.281255    4.861838   \n",
            "38348    3.697348    4.232410    4.140381    4.248255    3.150265    5.222979   \n",
            "38901    5.463672    5.393364    5.782827    4.898147    5.156799    5.036100   \n",
            "39372    7.732270    7.912833    7.978622    7.705262    7.337058    8.365034   \n",
            "\n",
            "       GSM1071964  GSM1071966  GSM1071968    Symbol  \n",
            "959      8.610202    7.984140    8.592835   TNFSF14  \n",
            "965      6.048112    5.937327    6.123494   TNFAIP1  \n",
            "1758     4.357153    3.884408    5.260419   TNFSF11  \n",
            "1879     6.261582    6.339091    6.324484   TNFRSF8  \n",
            "2348     7.213369    6.899180    7.337519   TNFSF14  \n",
            "...           ...         ...         ...       ...  \n",
            "37898    9.853909    9.444786    9.329805   TNFSF14  \n",
            "38340    4.168054    3.564315    4.348967  TNFRSF19  \n",
            "38348    4.398092    5.093541    4.994051   C1QTNF1  \n",
            "38901    4.528218    5.464621    5.478860   TNFSF13  \n",
            "39372    7.370735    7.631531    7.441093   TNFAIP8  \n",
            "\n",
            "[78 rows x 34 columns]\n",
            "Found IL6:\n",
            "             ID_REF  GSM1071906  GSM1071908  GSM1071910  GSM1071912  \\\n",
            "1374   ILMN_1657058    4.513404    4.716951    3.743754    3.895381   \n",
            "9413   ILMN_1696394    6.240332    4.241468    4.779507    5.583890   \n",
            "10000  ILMN_1699651    5.030628    4.087429    5.359721    5.222323   \n",
            "17878  ILMN_1746604    4.255225    3.754861    4.328501    4.344640   \n",
            "19168  ILMN_1754753    5.856357    4.556686    5.493134    6.251863   \n",
            "25913  ILMN_1797861    4.413224    4.879756    4.729817    4.441972   \n",
            "\n",
            "       GSM1071914  GSM1071916  GSM1071918  GSM1071920  GSM1071922  ...  \\\n",
            "1374     4.422653    4.354093    4.447288    4.766212    4.058493  ...   \n",
            "9413     5.907718    6.301923    4.434922    6.549783    6.443174  ...   \n",
            "10000    4.925453    5.599578    5.351680    5.134621    5.058490  ...   \n",
            "17878    4.851224    4.713011    4.050008    4.807931    4.158085  ...   \n",
            "19168    6.179370    6.812861    5.525510    6.629215    6.297083  ...   \n",
            "25913    4.776364    5.182778    3.740093    4.096991    4.170823  ...   \n",
            "\n",
            "       GSM1071952  GSM1071954  GSM1071956  GSM1071958  GSM1071960  GSM1071962  \\\n",
            "1374     4.656280    3.731942    4.224235    3.716379    4.222168    3.906841   \n",
            "9413     6.043470    6.693436    7.789757    7.045612    6.330663    5.968061   \n",
            "10000    5.467692    4.740454    4.938808    4.535640    5.192652    5.336786   \n",
            "17878    4.092265    4.798459    4.821798    4.422278    5.083568    4.252860   \n",
            "19168    6.325680    6.769669    7.952098    7.625450    5.545263    6.321470   \n",
            "25913    4.691949    4.094749    4.818814    4.958376    4.737647    4.329264   \n",
            "\n",
            "       GSM1071964  GSM1071966  GSM1071968  Symbol  \n",
            "1374     4.670772    4.299039    3.874921   PPIL6  \n",
            "9413     7.183576    7.236021    7.497033    IL6R  \n",
            "10000    4.869255    4.934158    4.414785     IL6  \n",
            "17878    4.801783    4.721927    4.217253   IL6ST  \n",
            "19168    8.082787    7.799158    7.774344    IL6R  \n",
            "25913    4.422330    4.874171    4.460685   IL6ST  \n",
            "\n",
            "[6 rows x 34 columns]\n",
            "Found MPO:\n",
            "             ID_REF  GSM1071906  GSM1071908  GSM1071910  GSM1071912  \\\n",
            "5775   ILMN_1677747    3.782019    7.953800    4.913914    4.458918   \n",
            "10994  ILMN_1705183    7.694348    4.177643    5.416399    5.267760   \n",
            "21359  ILMN_1768816    3.478167    5.051229    4.215444    3.246745   \n",
            "25493  ILMN_1795340    4.867098    4.988643    5.289241    4.074380   \n",
            "\n",
            "       GSM1071914  GSM1071916  GSM1071918  GSM1071920  GSM1071922  ...  \\\n",
            "5775     4.858621    4.486668    3.596630    4.740417    4.899173  ...   \n",
            "10994    5.312095    5.978325    5.307906    5.414923    5.478129  ...   \n",
            "21359    3.808850    3.286372    3.735370    4.322272    4.989874  ...   \n",
            "25493    5.339946    4.336117    5.571608    4.519671    5.027483  ...   \n",
            "\n",
            "       GSM1071952  GSM1071954  GSM1071956  GSM1071958  GSM1071960  GSM1071962  \\\n",
            "5775     4.689150    4.378428    3.504148    3.612413    4.390348    4.232823   \n",
            "10994    5.323415    5.324275    4.993059    5.464692    5.526363    5.503310   \n",
            "21359    5.009863    5.371510    4.454304    5.042416    4.533560    4.766285   \n",
            "25493    5.503518    5.305994    5.117570    5.601377    5.143833    5.335420   \n",
            "\n",
            "       GSM1071964  GSM1071966  GSM1071968  Symbol  \n",
            "5775     4.178838    5.423223    3.917098    TMPO  \n",
            "10994    5.335041    5.394200    5.290561     MPO  \n",
            "21359    3.906114    5.257614    4.842000    TMPO  \n",
            "25493    5.060098    4.110029    4.367617    TMPO  \n",
            "\n",
            "[4 rows x 34 columns]\n"
          ]
        }
      ]
    },
    {
      "cell_type": "code",
      "source": [
        "#Looking at TNF spike in a specific subject.\n",
        "tnf_row = df_merged[df_merged[\"ID_REF\"] == \"ILMN_1661343\"]\n",
        "print(tnf_row)"
      ],
      "metadata": {
        "id": "t0HJYKioC6wl",
        "colab": {
          "base_uri": "https://localhost:8080/"
        },
        "outputId": "daa2d7e3-6877-407f-8449-775c09a58b3c"
      },
      "execution_count": 9,
      "outputs": [
        {
          "output_type": "stream",
          "name": "stdout",
          "text": [
            "            ID_REF  GSM1071906  GSM1071908  GSM1071910  GSM1071912  \\\n",
            "2348  ILMN_1661343    4.463485    5.533772    4.812774    3.941329   \n",
            "\n",
            "      GSM1071914  GSM1071916  GSM1071918  GSM1071920  GSM1071922  ...  \\\n",
            "2348    6.399295    6.676776    3.207022    7.129404    6.949453  ...   \n",
            "\n",
            "      GSM1071952  GSM1071954  GSM1071956  GSM1071958  GSM1071960  GSM1071962  \\\n",
            "2348    6.461958    6.646265    7.637234    7.140524    6.101654    5.842723   \n",
            "\n",
            "      GSM1071964  GSM1071966  GSM1071968   Symbol  \n",
            "2348    7.213369     6.89918    7.337519  TNFSF14  \n",
            "\n",
            "[1 rows x 34 columns]\n"
          ]
        }
      ]
    },
    {
      "cell_type": "markdown",
      "source": [
        "I went looking for known TNFSF14 and TNF inhibtor compounds"
      ],
      "metadata": {
        "id": "Zm_VENZMkXRg"
      }
    },
    {
      "cell_type": "code",
      "source": [
        "#Importing TNF inhibitor compounds to check for their potential to inhibit TNF or TNFSF14\n",
        "compounds = pd.read_excel(\"compounds.xlsx\")\n",
        "print(compounds.head())"
      ],
      "metadata": {
        "id": "FW9rsYlXMw0n",
        "colab": {
          "base_uri": "https://localhost:8080/"
        },
        "outputId": "180580f9-d79b-40ff-c226-6886d06816a5"
      },
      "execution_count": 11,
      "outputs": [
        {
          "output_type": "stream",
          "name": "stdout",
          "text": [
            "             CID           Title  \\\n",
            "0      CHEMBL468     Thalidomide   \n",
            "1      CHEMBL848    Lenalidomide   \n",
            "2  CHEMBL4650521    BATOPROTAFIB   \n",
            "3      CHEMBL628  PENTOXIFYLLINE   \n",
            "\n",
            "                                              SMILES       \n",
            "0                O=C1CCC(N2C(=O)c3ccccc3C2=O)C(=O)N1  NaN  \n",
            "1                   Nc1cccc2c1CN(C1CCC(=O)NC1=O)C2=O  NaN  \n",
            "2  C[C@@H]1OCC2(CCN(c3cnc(Sc4ccnc(N)c4Cl)c(N)n3)C...  NaN  \n",
            "3                CC(=O)CCCCn1c(=O)c2c(ncn2C)n(C)c1=O  NaN  \n"
          ]
        }
      ]
    },
    {
      "cell_type": "markdown",
      "source": [
        "Knowing that the TNFSF14 gene had a spike at 3hrs I looked at each subject before exercise and 3hrs after excercise. This is because this gene was the most activated out of the other genes we inspected."
      ],
      "metadata": {
        "id": "S1AmMpSzd7KH"
      }
    },
    {
      "cell_type": "code",
      "source": [
        "import pandas as pd\n",
        "import numpy as np\n",
        "\n",
        "# Explicitly list Pre (PMN0) and 3h (PMN1) columns\n",
        "pre_cols = [\"GSM1071906\", \"GSM1071914\", \"GSM1071922\", \"GSM1071930\", \"GSM1071938\", \"GSM1071946\", \"GSM1071954\", \"GSM1071962\"]\n",
        "three_h_cols = [\"GSM1071908\", \"GSM1071916\", \"GSM1071924\", \"GSM1071932\", \"GSM1071940\", \"GSM1071948\", \"GSM1071956\", \"GSM1071964\"]\n",
        "\n",
        "# Get TNFSF14 row\n",
        "tnf_row = df_merged[df_merged[\"ID_REF\"] == \"ILMN_1661343\"]\n",
        "print(\"TNF Row:\", tnf_row)\n",
        "\n",
        "# Calculate means with NaN check\n",
        "pre_values = tnf_row[pre_cols].values[0]\n",
        "three_h_values = tnf_row[three_h_cols].values[0]\n",
        "pre_mean = np.mean(pre_values)\n",
        "three_h_mean = np.mean(three_h_values)\n",
        "\n",
        "print(\"Pre values:\", pre_values)\n",
        "print(\"3h values:\", three_h_values)\n",
        "print(\"Pre mean:\", pre_mean)\n",
        "print(\"3h mean:\", three_h_mean)\n",
        "\n",
        "# Fold-change with safeguard\n",
        "if pre_mean == 0 or np.isnan(pre_mean) or np.isnan(three_h_mean):\n",
        "    print(\"Error: Zero or NaN in means\")\n",
        "else:\n",
        "    fold_change = three_h_mean / pre_mean\n",
        "    print(f\"TNFSF14 3h Fold-Change: {fold_change}\")"
      ],
      "metadata": {
        "id": "7ybG9VB9OuZT",
        "colab": {
          "base_uri": "https://localhost:8080/"
        },
        "outputId": "2591f0d6-c0b5-484e-d935-63c898b67e3c"
      },
      "execution_count": 12,
      "outputs": [
        {
          "output_type": "stream",
          "name": "stdout",
          "text": [
            "TNF Row:             ID_REF  GSM1071906  GSM1071908  GSM1071910  GSM1071912  \\\n",
            "2348  ILMN_1661343    4.463485    5.533772    4.812774    3.941329   \n",
            "\n",
            "      GSM1071914  GSM1071916  GSM1071918  GSM1071920  GSM1071922  ...  \\\n",
            "2348    6.399295    6.676776    3.207022    7.129404    6.949453  ...   \n",
            "\n",
            "      GSM1071952  GSM1071954  GSM1071956  GSM1071958  GSM1071960  GSM1071962  \\\n",
            "2348    6.461958    6.646265    7.637234    7.140524    6.101654    5.842723   \n",
            "\n",
            "      GSM1071964  GSM1071966  GSM1071968   Symbol  \n",
            "2348    7.213369     6.89918    7.337519  TNFSF14  \n",
            "\n",
            "[1 rows x 34 columns]\n",
            "Pre values: [4.46348458 6.3992949  6.94945334 5.71660364 4.74119717 4.44746109\n",
            " 6.64626481 5.84272257]\n",
            "3h values: [5.53377243 6.67677569 5.25630996 6.87879467 7.28591291 6.21414397\n",
            " 7.63723407 7.21336891]\n",
            "Pre mean: 5.650810263962468\n",
            "3h mean: 6.5870390751558805\n",
            "TNFSF14 3h Fold-Change: 1.1656804542109878\n"
          ]
        }
      ]
    },
    {
      "cell_type": "markdown",
      "source": [
        "The TNFSF14 gene had a fold-change of 1.16 at 3hrs after exercise when compared to before exercise."
      ],
      "metadata": {
        "id": "yecVnSP8ecm4"
      }
    },
    {
      "cell_type": "code",
      "source": [
        "pip install rdkit"
      ],
      "metadata": {
        "colab": {
          "base_uri": "https://localhost:8080/"
        },
        "id": "mi_FIcAa9hOx",
        "outputId": "b1069264-af38-41d0-d797-993335b207a2"
      },
      "execution_count": 14,
      "outputs": [
        {
          "output_type": "stream",
          "name": "stdout",
          "text": [
            "Collecting rdkit\n",
            "  Downloading rdkit-2024.9.5-cp311-cp311-manylinux_2_28_x86_64.whl.metadata (4.0 kB)\n",
            "Requirement already satisfied: numpy in /usr/local/lib/python3.11/dist-packages (from rdkit) (1.26.4)\n",
            "Requirement already satisfied: Pillow in /usr/local/lib/python3.11/dist-packages (from rdkit) (11.1.0)\n",
            "Downloading rdkit-2024.9.5-cp311-cp311-manylinux_2_28_x86_64.whl (34.3 MB)\n",
            "\u001b[2K   \u001b[90m━━━━━━━━━━━━━━━━━━━━━━━━━━━━━━━━━━━━━━━━\u001b[0m \u001b[32m34.3/34.3 MB\u001b[0m \u001b[31m32.8 MB/s\u001b[0m eta \u001b[36m0:00:00\u001b[0m\n",
            "\u001b[?25hInstalling collected packages: rdkit\n",
            "Successfully installed rdkit-2024.9.5\n"
          ]
        }
      ]
    },
    {
      "cell_type": "code",
      "source": [
        "import pandas as pd\n",
        "from rdkit import Chem\n",
        "from rdkit.Chem import Descriptors\n",
        "\n",
        "# Calculate features\n",
        "# Calculate Molecular weight from SMILE description\n",
        "# Calculate the octanol-water partition coefficient (LogP) which is the measure of a compound's hydrophobicity.\n",
        "compounds[\"MolWeight\"] = [Descriptors.MolWt(Chem.MolFromSmiles(s)) for s in compounds[\"SMILES\"]]\n",
        "compounds[\"LogP\"] = [Descriptors.MolLogP(Chem.MolFromSmiles(s)) for s in compounds[\"SMILES\"]]\n",
        "print(\"Compounds with features:\", compounds.head())"
      ],
      "metadata": {
        "id": "rGLk9hwaPKWn",
        "colab": {
          "base_uri": "https://localhost:8080/"
        },
        "outputId": "294245ad-7d5e-4e31-8015-652c3b5c3f7e"
      },
      "execution_count": 15,
      "outputs": [
        {
          "output_type": "stream",
          "name": "stdout",
          "text": [
            "Compounds with features:              CID           Title  \\\n",
            "0      CHEMBL468     Thalidomide   \n",
            "1      CHEMBL848    Lenalidomide   \n",
            "2  CHEMBL4650521    BATOPROTAFIB   \n",
            "3      CHEMBL628  PENTOXIFYLLINE   \n",
            "\n",
            "                                              SMILES       MolWeight    LogP  \n",
            "0                O=C1CCC(N2C(=O)c3ccccc3C2=O)C(=O)N1  NaN    258.233  0.0878  \n",
            "1                   Nc1cccc2c1CN(C1CCC(=O)NC1=O)C2=O  NaN    259.265  0.0298  \n",
            "2  C[C@@H]1OCC2(CCN(c3cnc(Sc4ccnc(N)c4Cl)c(N)n3)C...  NaN    421.958  2.1732  \n",
            "3                CC(=O)CCCCn1c(=O)c2c(ncn2C)n(C)c1=O  NaN    278.312  0.1930  \n"
          ]
        }
      ]
    },
    {
      "cell_type": "markdown",
      "source": [
        "Once the compounds have been described I can use those descriptions in a random forest regression model to predict how well certain compounds might block the activity of TNFSF14"
      ],
      "metadata": {
        "id": "XV214rrbfgxP"
      }
    },
    {
      "cell_type": "code",
      "source": [
        "from sklearn.ensemble import RandomForestRegressor\n",
        "import numpy as np\n",
        "\n",
        "# Create simulated activity scores (lower = better blocker)\n",
        "np.random.seed(42)  # For reproducibility\n",
        "compounds[\"Activity_Score\"] = np.random.uniform(0, 1, len(compounds)) * (1 / fold_change)  # Scale by fold-change inverse\n",
        "\n",
        "# Features and target\n",
        "X = compounds[[\"MolWeight\", \"LogP\"]]\n",
        "y = compounds[\"Activity_Score\"]\n",
        "\n",
        "# Train model\n",
        "model = RandomForestRegressor(random_state=42)\n",
        "model.fit(X, y)\n",
        "\n",
        "# Predict and rank\n",
        "compounds[\"Predicted_Score\"] = model.predict(X)\n",
        "top_hits = compounds.sort_values(\"Predicted_Score\").head()\n",
        "print(\"Top Hits:\", top_hits[[\"CID\", \"Title\", \"Predicted_Score\"]])"
      ],
      "metadata": {
        "id": "SaIVSO3HPiOT",
        "colab": {
          "base_uri": "https://localhost:8080/"
        },
        "outputId": "d60b5d40-4619-455e-e8ab-a0e0026414dc"
      },
      "execution_count": 16,
      "outputs": [
        {
          "output_type": "stream",
          "name": "stdout",
          "text": [
            "Top Hits:              CID           Title  Predicted_Score\n",
            "0      CHEMBL468     Thalidomide         0.450372\n",
            "3      CHEMBL628  PENTOXIFYLLINE         0.536898\n",
            "2  CHEMBL4650521    BATOPROTAFIB         0.582836\n",
            "1      CHEMBL848    Lenalidomide         0.648084\n"
          ]
        }
      ]
    },
    {
      "cell_type": "markdown",
      "source": [
        "Plotting the results shows that Thalidomide is the most likely compound predicted to block TNFSF14."
      ],
      "metadata": {
        "id": "IY7KeXZbhB_c"
      }
    },
    {
      "cell_type": "code",
      "source": [
        "#Plotting the predicted score determined from the random forest.\n",
        "import matplotlib.pyplot as plt\n",
        "plt.bar(top_hits[\"Title\"], top_hits[\"Predicted_Score\"])\n",
        "plt.xticks(rotation=45)\n",
        "plt.ylabel(\"Predicted Blocking Score\")\n",
        "plt.title(\"Top TNFSF14 Blockers\")\n",
        "plt.tight_layout()\n",
        "plt.show()"
      ],
      "metadata": {
        "id": "yKTOAv06Puym",
        "colab": {
          "base_uri": "https://localhost:8080/",
          "height": 487
        },
        "outputId": "f7160622-e58a-4f27-a719-0ca0490b398c"
      },
      "execution_count": 17,
      "outputs": [
        {
          "output_type": "display_data",
          "data": {
            "text/plain": [
              "<Figure size 640x480 with 1 Axes>"
            ],
            "image/png": "[encoded data removed]"
          },
          "metadata": {}
        }
      ]
    }
  ]
}