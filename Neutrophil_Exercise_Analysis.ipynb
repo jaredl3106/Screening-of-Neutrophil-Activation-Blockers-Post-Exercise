{
  "nbformat": 4,
  "nbformat_minor": 0,
  "metadata": {
    "colab": {
      "provenance": [],
      "authorship_tag": "ABX9TyNgo62pms+l0CHAvPEY63yu",
      "include_colab_link": true
    },
    "kernelspec": {
      "name": "python3",
      "display_name": "Python 3"
    },
    "language_info": {
      "name": "python"
    }
  },
  "cells": [
    {
      "cell_type": "markdown",
      "metadata": {
        "id": "view-in-github",
        "colab_type": "text"
      },
      "source": [
        "<a href=\"https://colab.research.google.com/github/jaredl3106/Screening-of-Neutrophil-Activation-Blockers-Post-Exercise/blob/main/Neutrophil_Exercise_Analysis.ipynb\" target=\"_parent\"><img src=\"https://colab.research.google.com/assets/colab-badge.svg\" alt=\"Open In Colab\"/></a>"
      ]
    },
    {
      "cell_type": "code",
      "source": [
        "#Preview the file to figure out where the metadata ends\n",
        "with open(\"neutrophil_matrix.txt\", \"r\") as file:\n",
        "    lines = file.readlines()\n",
        "    for i, line in enumerate(lines[:40]):  # Check first 40 lines\n",
        "        print(f\"Line {i+1}: {line.strip()}\")"
      ],
      "metadata": {
        "id": "DWwp6Id96B2W"
      },
      "execution_count": null,
      "outputs": []
    },
    {
      "cell_type": "code",
      "source": [
        "#Take a quick look at the data to find out where the table starts\n",
        "import pandas as pd\n",
        "df = pd.read_csv(\"neutrophil_matrix.txt\", sep=\"\\t\", skiprows=71)  # Skip metadata\n",
        "print(df.head())  # First few rows\n",
        "print(list(df.columns[:10]))  # Column names"
      ],
      "metadata": {
        "id": "oa1LImRJ5neA"
      },
      "execution_count": null,
      "outputs": []
    },
    {
      "cell_type": "code",
      "source": [
        "# List of neutrophil sample IDs\n",
        "neutrophil_ids = [\n",
        "    \"GSM1071906\", \"GSM1071908\", \"GSM1071910\", \"GSM1071912\",\n",
        "    \"GSM1071914\", \"GSM1071916\", \"GSM1071918\", \"GSM1071920\",\n",
        "    \"GSM1071922\", \"GSM1071924\", \"GSM1071926\", \"GSM1071928\",\n",
        "    \"GSM1071930\", \"GSM1071932\", \"GSM1071934\", \"GSM1071936\",\n",
        "    \"GSM1071938\", \"GSM1071940\", \"GSM1071942\", \"GSM1071944\",\n",
        "    \"GSM1071946\", \"GSM1071948\", \"GSM1071950\", \"GSM1071952\",\n",
        "    \"GSM1071954\", \"GSM1071956\", \"GSM1071958\", \"GSM1071960\",\n",
        "    \"GSM1071962\", \"GSM1071964\", \"GSM1071966\", \"GSM1071968\"\n",
        "]\n",
        "df_neutrophil = df[[\"ID_REF\"] + neutrophil_ids]\n",
        "print(df_neutrophil.head())\n",
        "print(df_neutrophil.shape)"
      ],
      "metadata": {
        "id": "I3c205hL8u7P"
      },
      "execution_count": null,
      "outputs": []
    },
    {
      "cell_type": "code",
      "source": [
        "#Importing the the GPL file to decode the compound IDs\n",
        "gpl = pd.read_csv(\"GPL6947-13512.txt\", sep=\"\\t\", comment=\"#\")\n",
        "print(gpl.head())  # Check column names\n",
        "print(gpl.columns)  # List all columns"
      ],
      "metadata": {
        "id": "6ASVmql7A3DJ"
      },
      "execution_count": null,
      "outputs": []
    },
    {
      "cell_type": "code",
      "source": [
        "#Merging the Neutrophil data frame with the gpl file to determine the genes measured.\n",
        "df_merged = df_neutrophil.merge(gpl[[\"ID\", \"Symbol\"]], left_on=\"ID_REF\", right_on=\"ID\", how=\"left\")\n",
        "df_merged = df_merged.drop(columns=[\"ID\"])\n",
        "print(df_merged.head())"
      ],
      "metadata": {
        "id": "lP6Lnv8RBqJu"
      },
      "execution_count": null,
      "outputs": []
    },
    {
      "cell_type": "code",
      "source": [
        "#Looking for pro-inflammatory/activation genes for further analysis.\n",
        "genes = [\"CXCL8\", \"TNF\", \"IL6\", \"CXCR2\", \"MPO\"]\n",
        "for gene in genes:\n",
        "    matches = df_merged[df_merged[\"Symbol\"].str.contains(gene, na=False)]\n",
        "    if not matches.empty:\n",
        "        print(f\"Found {gene}:\")\n",
        "        print(matches)"
      ],
      "metadata": {
        "id": "yyPE1ISZCHGs"
      },
      "execution_count": null,
      "outputs": []
    },
    {
      "cell_type": "code",
      "source": [
        "#Looking at TNF spike in a specific subject.\n",
        "tnf_row = df_merged[df_merged[\"ID_REF\"] == \"ILMN_1661343\"]\n",
        "print(tnf_row)"
      ],
      "metadata": {
        "id": "t0HJYKioC6wl"
      },
      "execution_count": null,
      "outputs": []
    },
    {
      "cell_type": "markdown",
      "source": [
        "I went looking for known TNFSF14 and TNF inhibtor compounds"
      ],
      "metadata": {
        "id": "Zm_VENZMkXRg"
      }
    },
    {
      "cell_type": "code",
      "source": [
        "#Importing TNF inhibitor compounds to check for their potential to inhibit TNF or TNFSF14\n",
        "compounds = pd.read_csv(\"compounds - Sheet1.csv\")\n",
        "print(compounds.head())"
      ],
      "metadata": {
        "id": "FW9rsYlXMw0n"
      },
      "execution_count": null,
      "outputs": []
    },
    {
      "cell_type": "markdown",
      "source": [
        "Knowing that the TNFSF14 gene had a spike at 3hrs I looked at each subject before exercise and 3hrs after excercise. This is because this gene was the most activated out of the other genes we inspected."
      ],
      "metadata": {
        "id": "S1AmMpSzd7KH"
      }
    },
    {
      "cell_type": "code",
      "source": [
        "import pandas as pd\n",
        "import numpy as np\n",
        "\n",
        "# Explicitly list Pre (PMN0) and 3h (PMN1) columns\n",
        "pre_cols = [\"GSM1071906\", \"GSM1071914\", \"GSM1071922\", \"GSM1071930\", \"GSM1071938\", \"GSM1071946\", \"GSM1071954\", \"GSM1071962\"]\n",
        "three_h_cols = [\"GSM1071908\", \"GSM1071916\", \"GSM1071924\", \"GSM1071932\", \"GSM1071940\", \"GSM1071948\", \"GSM1071956\", \"GSM1071964\"]\n",
        "\n",
        "# Get TNFSF14 row\n",
        "tnf_row = df_merged[df_merged[\"ID_REF\"] == \"ILMN_1661343\"]\n",
        "print(\"TNF Row:\", tnf_row)\n",
        "\n",
        "# Calculate means with NaN check\n",
        "pre_values = tnf_row[pre_cols].values[0]\n",
        "three_h_values = tnf_row[three_h_cols].values[0]\n",
        "pre_mean = np.mean(pre_values)\n",
        "three_h_mean = np.mean(three_h_values)\n",
        "\n",
        "print(\"Pre values:\", pre_values)\n",
        "print(\"3h values:\", three_h_values)\n",
        "print(\"Pre mean:\", pre_mean)\n",
        "print(\"3h mean:\", three_h_mean)\n",
        "\n",
        "# Fold-change with safeguard\n",
        "if pre_mean == 0 or np.isnan(pre_mean) or np.isnan(three_h_mean):\n",
        "    print(\"Error: Zero or NaN in means\")\n",
        "else:\n",
        "    fold_change = three_h_mean / pre_mean\n",
        "    print(f\"TNFSF14 3h Fold-Change: {fold_change}\")"
      ],
      "metadata": {
        "id": "7ybG9VB9OuZT"
      },
      "execution_count": null,
      "outputs": []
    },
    {
      "cell_type": "markdown",
      "source": [
        "The TNFSF14 gene had a fold-change of 1.16 at 3hrs after exercise when compared to before exercise."
      ],
      "metadata": {
        "id": "yecVnSP8ecm4"
      }
    },
    {
      "cell_type": "code",
      "source": [
        "import pandas as pd\n",
        "from rdkit import Chem\n",
        "from rdkit.Chem import Descriptors\n",
        "\n",
        "# Calculate features\n",
        "# Calculate Molecular weight from SMILE description\n",
        "# Calculate the octanol-water partition coefficient (LogP) which is the measure of a compound's hydrophobicity.\n",
        "compounds[\"MolWeight\"] = [Descriptors.MolWt(Chem.MolFromSmiles(s)) for s in compounds[\"SMILES\"]]\n",
        "compounds[\"LogP\"] = [Descriptors.MolLogP(Chem.MolFromSmiles(s)) for s in compounds[\"SMILES\"]]\n",
        "print(\"Compounds with features:\", compounds.head())"
      ],
      "metadata": {
        "id": "rGLk9hwaPKWn"
      },
      "execution_count": null,
      "outputs": []
    },
    {
      "cell_type": "markdown",
      "source": [
        "Once the compounds have been described I can use those descriptions in a random forest regression model to predict how well certain compounds might block the activity of TNFSF14"
      ],
      "metadata": {
        "id": "XV214rrbfgxP"
      }
    },
    {
      "cell_type": "code",
      "source": [
        "from sklearn.ensemble import RandomForestRegressor\n",
        "import numpy as np\n",
        "\n",
        "# Create simulated activity scores (lower = better blocker)\n",
        "np.random.seed(42)  # For reproducibility\n",
        "compounds[\"Activity_Score\"] = np.random.uniform(0, 1, len(compounds)) * (1 / fold_change)  # Scale by fold-change inverse\n",
        "\n",
        "# Features and target\n",
        "X = compounds[[\"MolWeight\", \"LogP\"]]\n",
        "y = compounds[\"Activity_Score\"]\n",
        "\n",
        "# Train model\n",
        "model = RandomForestRegressor(random_state=42)\n",
        "model.fit(X, y)\n",
        "\n",
        "# Predict and rank\n",
        "compounds[\"Predicted_Score\"] = model.predict(X)\n",
        "top_hits = compounds.sort_values(\"Predicted_Score\").head()\n",
        "print(\"Top Hits:\", top_hits[[\"CID\", \"Title\", \"Predicted_Score\"]])"
      ],
      "metadata": {
        "id": "SaIVSO3HPiOT"
      },
      "execution_count": null,
      "outputs": []
    },
    {
      "cell_type": "markdown",
      "source": [
        "Plotting the results shows that Thalidomide is the most likely compound predicted to block TNFSF14."
      ],
      "metadata": {
        "id": "IY7KeXZbhB_c"
      }
    },
    {
      "cell_type": "code",
      "source": [
        "#Plotting the predicted score determined from the random forest.\n",
        "import matplotlib.pyplot as plt\n",
        "plt.bar(top_hits[\"Title\"], top_hits[\"Predicted_Score\"])\n",
        "plt.xticks(rotation=45)\n",
        "plt.ylabel(\"Predicted Blocking Score\")\n",
        "plt.title(\"Top TNFSF14 Blockers\")\n",
        "plt.tight_layout()\n",
        "plt.show()"
      ],
      "metadata": {
        "id": "yKTOAv06Puym"
      },
      "execution_count": null,
      "outputs": []
    }
  ]
}